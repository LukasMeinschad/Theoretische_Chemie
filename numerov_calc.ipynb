{
 "cells": [
  {
   "cell_type": "markdown",
   "metadata": {},
   "source": [
    "# Numerov Calculation Script"
   ]
  },
  {
   "cell_type": "code",
   "execution_count": 104,
   "metadata": {},
   "outputs": [],
   "source": [
    "import numpy as np\n",
    "import pandas as pd\n",
    "import scipy.constants as const"
   ]
  },
  {
   "cell_type": "markdown",
   "metadata": {},
   "source": [
    "## Data Read-In\n",
    "\n",
    "We need the scan file with the dipole moment and we need our numerov.dat file"
   ]
  },
  {
   "cell_type": "code",
   "execution_count": 105,
   "metadata": {},
   "outputs": [],
   "source": [
    "df = pd.read_csv(\"numerov.dat\", skiprows = 2, names = [\"Distances\",\"Energies\",\"Wf_shifted_0\",\"Wf_shifted_1\",\"Wf_shifted_2\",\"Wf_shifted_3\",\"Wf_shifted_4\",\"Wf_0\",\"Wf_1\",\"Wf_2\",\"Wf_3\",\"Wf_4\"], sep=\"\\s+\")\n",
    "\n",
    "eigenvalues = pd.read_csv(\"numerov.dat\", skiprows=1, nrows=1, sep=\"\\s+\",names=[\"a\",\"b\",\"c\",\"d\",\"e\",\"f\"])\n",
    "\n",
    "scan_dat = pd.read_csv(\"scan_data.dat\",sep=\"\\t\",names=[\"Distances\", \"Energy\", \"Dipole_vectors_xyz\"])\n",
    "\n",
    "dipole_vectors = scan_dat.loc[:, \"Dipole_vectors_xyz\"]\n",
    "\n",
    "# This splits the individual dipole vectors\n",
    "dipole_vectors_split = dipole_vectors.str.split(r'\\s+',expand=True)\n",
    "dipole_vectors_split = dipole_vectors_split.astype(float)\n",
    "\n",
    "\n"
   ]
  },
  {
   "cell_type": "code",
   "execution_count": 147,
   "metadata": {},
   "outputs": [
    {
     "name": "stdout",
     "output_type": "stream",
     "text": [
      "14.84791735342\n",
      "[0.0, 0.0, 0.0, 0.0]\n",
      "[0.0, 0.0, 0.0, 0.0]\n"
     ]
    }
   ],
   "source": [
    "\n",
    "\n",
    "eigenvalues_numpy = eigenvalues.to_numpy() * 10\n",
    "eigenvalues_slices = eigenvalues_numpy[0,1:]\n",
    "\n",
    "\n",
    "\n",
    "\n",
    "# Next of we calculate v_n0\n",
    "\n",
    "eigenvalue_0 = eigenvalues_slices[0]\n",
    "print(eigenvalue_0)\n",
    "\n",
    "\n",
    "# Now we iterate and calculate all our v_n0s\n",
    "\n",
    "v_n0 = []\n",
    "for i, eig in enumerate(eigenvalues_slices):\n",
    "    if i == 0:\n",
    "        continue\n",
    "    else:\n",
    "        v_n0.append((eig - eigenvalue_0)/const.h * 4148)\n",
    "\n",
    "# we have to turn this into a wavenumber ws\n",
    "\n",
    "c = const.speed_of_light * 100\n",
    "\n",
    "v_n = []\n",
    "for freq in v_n0:\n",
    "    v_n.append(freq / c)\n",
    "\n",
    "\n",
    "    \n",
    "# Select all x,y,z values for our dipole moment\n",
    "\n",
    "mu_x = dipole_vectors_split.loc[:, 0]\n",
    "mu_y = dipole_vectors_split.loc[:, 1]\n",
    "mu_z = dipole_vectors_split.loc[:, 2]\n",
    "\n",
    "\n",
    "\n",
    "# And get the bond distances\n",
    "\n",
    "distances = df.loc[:, \"Distances\"]\n",
    "\n",
    "\n",
    "\n",
    "# Select the Wave_Functions for the y_0 and y_n --> as there are just 4 we can do this manually\n",
    "\n",
    "wf_0 = df.loc[:, \"Wf_shifted_0\"]\n",
    "wf_1 = df.loc[:, \"Wf_shifted_1\"]\n",
    "wf_2 = df.loc[:, \"Wf_shifted_2\"]\n",
    "wf_3 = df.loc[:, \"Wf_shifted_3\"]\n",
    "wf_4 = df.loc[:, \"Wf_shifted_4\"]\n",
    "\n",
    "\n",
    "# Make a integrand function\n",
    "\n",
    "def calculate_integrand(wf_0,mu_comp,wf_n):\n",
    "    return np.array(wf_0 * mu_comp*wf_1)\n",
    "\n",
    "integral_mu_x = []\n",
    "integral_mu_y = []\n",
    "integral_mu_z = []\n",
    "for i in range(1,5):\n",
    "\n",
    "    wf_0 = df.loc[:, \"Wf_shifted_0\"]\n",
    "    wf_n = df.loc[:, f\"Wf_shifted_{i}\"]\n",
    "    integral_mu_x.append(np.trapz(calculate_integrand(wf_0,mu_x,wf_n),distances))\n",
    "    integral_mu_y.append(np.trapz(calculate_integrand(wf_0,mu_y,wf_n),distances))\n",
    "    integral_mu_z.append(np.trapz(calculate_integrand(wf_0,mu_z,wf_n),distances))\n",
    "\n",
    "\n",
    "# Now we can calculate the transition dipole moment for n=1-4\n",
    "\n",
    "mu_n_squared = []\n",
    "\n",
    "for i in range(4):\n",
    "    mu_n_squared.append(abs(integral_mu_x[i])**2 + abs(integral_mu_y[i])**2 + abs(integral_mu_z[i])**2)\n",
    "\n",
    "print(mu_n_squared)\n",
    "\n",
    "f_n0 = []\n",
    "for i in range(4):\n",
    "    f_n0.append((4.702e-7)*mu_n_squared[i]*v_n[i])\n",
    "\n",
    "print(f_n0)\n",
    "\n",
    "\n",
    "\n",
    "\n",
    "        \n"
   ]
  }
 ],
 "metadata": {
  "kernelspec": {
   "display_name": "base",
   "language": "python",
   "name": "python3"
  },
  "language_info": {
   "codemirror_mode": {
    "name": "ipython",
    "version": 3
   },
   "file_extension": ".py",
   "mimetype": "text/x-python",
   "name": "python",
   "nbconvert_exporter": "python",
   "pygments_lexer": "ipython3",
   "version": "3.11.7"
  }
 },
 "nbformat": 4,
 "nbformat_minor": 2
}
